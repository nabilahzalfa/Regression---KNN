{
 "cells": [
  {
   "cell_type": "code",
   "execution_count": 10,
   "metadata": {},
   "outputs": [],
   "source": [
    "import numpy as np\n",
    "import matplotlib.pyplot as plt\n",
    "\n",
    "x_train = np.array([\n",
    "        [26, 8],\n",
    "        [26, 11],\n",
    "        [29, 8],\n",
    "        [34, 10],\n",
    "        [36, 11],\n",
    "        [33, 8],\n",
    "        [30, 9],\n",
    "        [27, 10],\n",
    "        [27, 11],\n",
    "        [26, 11],\n",
    "        [31, 13],\n",
    "        [34, 8]\n",
    "        ])\n",
    "\n",
    "y_train = ['go out', 'go out', 'go out', 'stay at home', 'stay at home', 'go out', \n",
    "        'go out','go out', 'go out', 'go out', 'stay at home', 'go out']\n",
    "\n",
    "x_test1 = np.array([[30, 10]])\n",
    "x_test2 = np.array([[28, 13]])\n",
    "x_test3 = np.array([[29, 9]])\n",
    "x_test4 = np.array([[31, 12]])\n",
    "x_test5 = np.array([[27, 8]])"
   ]
  },
  {
   "cell_type": "code",
   "execution_count": null,
   "metadata": {},
   "outputs": [],
   "source": []
  },
  {
   "cell_type": "code",
   "execution_count": null,
   "metadata": {},
   "outputs": [],
   "source": []
  },
  {
   "cell_type": "code",
   "execution_count": 11,
   "metadata": {},
   "outputs": [
    {
     "data": {
      "text/plain": [
       "array([4.47213595, 4.12310563, 2.23606798, 4.        , 6.08276253,\n",
       "       3.60555128, 1.        , 3.        , 3.16227766, 4.12310563,\n",
       "       3.16227766, 4.47213595])"
      ]
     },
     "execution_count": 11,
     "metadata": {},
     "output_type": "execute_result"
    }
   ],
   "source": [
    "# calculate euclidean distance data testing 1\n",
    "\n",
    "dis1 = np.sqrt(np.sum((x_train-x_test1)**2, axis=1))\n",
    "dis1"
   ]
  },
  {
   "cell_type": "code",
   "execution_count": 16,
   "metadata": {},
   "outputs": [
    {
     "name": "stdout",
     "output_type": "stream",
     "text": [
      "[ 6  2  7  8 10]\n",
      "['go out' 'go out' 'go out' 'go out' 'stay at home']\n"
     ]
    },
    {
     "data": {
      "text/plain": [
       "'go out'"
      ]
     },
     "execution_count": 16,
     "metadata": {},
     "output_type": "execute_result"
    }
   ],
   "source": [
    "nn_sort=dis1.argsort()[:5]\n",
    "print(nn_sort)\n",
    "nn_decision = np.take(y_train,nn_sort)\n",
    "print(nn_decision)\n",
    "\n",
    "from collections import Counter\n",
    "b= Counter(np.take(y_train,dis1.argsort()[:5]))\n",
    "b.most_common(1)[0][0]"
   ]
  },
  {
   "cell_type": "code",
   "execution_count": 12,
   "metadata": {},
   "outputs": [
    {
     "data": {
      "text/plain": [
       "array([5.38516481, 2.82842712, 5.09901951, 6.70820393, 8.24621125,\n",
       "       7.07106781, 4.47213595, 3.16227766, 2.23606798, 2.82842712,\n",
       "       3.        , 7.81024968])"
      ]
     },
     "execution_count": 12,
     "metadata": {},
     "output_type": "execute_result"
    }
   ],
   "source": [
    "# calculate euclidean distance data testing 2\n",
    "\n",
    "dis2 = np.sqrt(np.sum((x_train-x_test2)**2, axis=1))\n",
    "dis2"
   ]
  },
  {
   "cell_type": "code",
   "execution_count": 17,
   "metadata": {},
   "outputs": [
    {
     "name": "stdout",
     "output_type": "stream",
     "text": [
      "[ 8  1  9 10  7]\n",
      "['go out' 'go out' 'go out' 'stay at home' 'go out']\n"
     ]
    },
    {
     "data": {
      "text/plain": [
       "'go out'"
      ]
     },
     "execution_count": 17,
     "metadata": {},
     "output_type": "execute_result"
    }
   ],
   "source": [
    "nn_sort=dis2.argsort()[:5]\n",
    "print(nn_sort)\n",
    "nn_decision = np.take(y_train,nn_sort)\n",
    "print(nn_decision)\n",
    "\n",
    "from collections import Counter\n",
    "b= Counter(np.take(y_train,dis2.argsort()[:5]))\n",
    "b.most_common(1)[0][0]"
   ]
  },
  {
   "cell_type": "code",
   "execution_count": 13,
   "metadata": {},
   "outputs": [
    {
     "data": {
      "text/plain": [
       "array([3.16227766, 3.60555128, 1.        , 5.09901951, 7.28010989,\n",
       "       4.12310563, 1.        , 2.23606798, 2.82842712, 3.60555128,\n",
       "       4.47213595, 5.09901951])"
      ]
     },
     "execution_count": 13,
     "metadata": {},
     "output_type": "execute_result"
    }
   ],
   "source": [
    "dis3 = np.sqrt(np.sum((x_train-x_test3)**2, axis=1))\n",
    "dis3"
   ]
  },
  {
   "cell_type": "code",
   "execution_count": 18,
   "metadata": {},
   "outputs": [
    {
     "name": "stdout",
     "output_type": "stream",
     "text": [
      "[2 6 7 8 0]\n",
      "['go out' 'go out' 'go out' 'go out' 'go out']\n"
     ]
    },
    {
     "data": {
      "text/plain": [
       "'go out'"
      ]
     },
     "execution_count": 18,
     "metadata": {},
     "output_type": "execute_result"
    }
   ],
   "source": [
    "nn_sort=dis3.argsort()[:5]\n",
    "print(nn_sort)\n",
    "nn_decision = np.take(y_train,nn_sort)\n",
    "print(nn_decision)\n",
    "\n",
    "from collections import Counter\n",
    "b= Counter(np.take(y_train,dis3.argsort()[:5]))\n",
    "b.most_common(1)[0][0]"
   ]
  },
  {
   "cell_type": "code",
   "execution_count": 14,
   "metadata": {},
   "outputs": [
    {
     "data": {
      "text/plain": [
       "array([6.40312424, 5.09901951, 4.47213595, 3.60555128, 5.09901951,\n",
       "       4.47213595, 3.16227766, 4.47213595, 4.12310563, 5.09901951,\n",
       "       1.        , 5.        ])"
      ]
     },
     "execution_count": 14,
     "metadata": {},
     "output_type": "execute_result"
    }
   ],
   "source": [
    "dis4 = np.sqrt(np.sum((x_train-x_test4)**2, axis=1))\n",
    "dis4"
   ]
  },
  {
   "cell_type": "code",
   "execution_count": 24,
   "metadata": {},
   "outputs": [
    {
     "name": "stdout",
     "output_type": "stream",
     "text": [
      "[10  6  3  8  2]\n",
      "['stay at home' 'go out' 'stay at home' 'go out' 'go out']\n"
     ]
    },
    {
     "data": {
      "text/plain": [
       "'go out'"
      ]
     },
     "execution_count": 24,
     "metadata": {},
     "output_type": "execute_result"
    }
   ],
   "source": [
    "nn_sort=dis4.argsort()[:5]\n",
    "print(nn_sort)\n",
    "nn_decision = np.take(y_train,nn_sort)\n",
    "print(nn_decision)\n",
    "\n",
    "from collections import Counter\n",
    "b= Counter(np.take(y_train,dis4.argsort()[:5]))\n",
    "b.most_common(1)[0][0]"
   ]
  },
  {
   "cell_type": "code",
   "execution_count": 15,
   "metadata": {},
   "outputs": [
    {
     "data": {
      "text/plain": [
       "array([1.        , 3.16227766, 2.        , 7.28010989, 9.48683298,\n",
       "       6.        , 3.16227766, 2.        , 3.        , 3.16227766,\n",
       "       6.40312424, 7.        ])"
      ]
     },
     "execution_count": 15,
     "metadata": {},
     "output_type": "execute_result"
    }
   ],
   "source": [
    "dis5 = np.sqrt(np.sum((x_train-x_test5)**2, axis=1))\n",
    "dis5"
   ]
  },
  {
   "cell_type": "code",
   "execution_count": 20,
   "metadata": {},
   "outputs": [
    {
     "name": "stdout",
     "output_type": "stream",
     "text": [
      "[0 2 7 8 1]\n",
      "['go out' 'go out' 'go out' 'go out' 'go out']\n"
     ]
    },
    {
     "data": {
      "text/plain": [
       "'go out'"
      ]
     },
     "execution_count": 20,
     "metadata": {},
     "output_type": "execute_result"
    }
   ],
   "source": [
    "nn_sort=dis5.argsort()[:5]\n",
    "print(nn_sort)\n",
    "nn_decision = np.take(y_train,nn_sort)\n",
    "print(nn_decision)\n",
    "\n",
    "from collections import Counter\n",
    "b= Counter(np.take(y_train,dis5.argsort()[:5]))\n",
    "b.most_common(1)[0][0]"
   ]
  },
  {
   "cell_type": "code",
   "execution_count": 23,
   "metadata": {},
   "outputs": [
    {
     "name": "stdout",
     "output_type": "stream",
     "text": [
      "label biner:[1 0 0 1 0]\n",
      "['go out' 'go out' 'go out' 'go out' 'go out']\n"
     ]
    }
   ],
   "source": [
    "from sklearn.preprocessing import LabelBinarizer\n",
    "from sklearn.neighbors import KNeighborsClassifier\n",
    "\n",
    "x_test = np.array([[30, 10],\n",
    "                [28, 13],\n",
    "                [29, 9],\n",
    "                [31, 12],\n",
    "                [27, 8]\n",
    "                ])\n",
    "y_test =['stay at home', 'go out', 'go out', 'stay at home', 'go out']\n",
    "\n",
    "lb = LabelBinarizer()\n",
    "y_trainbin = lb.fit_transform(y_train)\n",
    "y_testbin = lb.transform(y_test)\n",
    "print('label biner:%s' %y_testbin.T[0])\n",
    "\n",
    "k = 5\n",
    "clf = KNeighborsClassifier(n_neighbors=k)\n",
    "clf.fit(x_train,y_trainbin.reshape(-1))\n",
    "pred_bin = clf.predict(x_test)\n",
    "pred_label = lb.inverse_transform(pred_bin)\n",
    "print(pred_label)"
   ]
  },
  {
   "cell_type": "code",
   "execution_count": 25,
   "metadata": {},
   "outputs": [
    {
     "name": "stdout",
     "output_type": "stream",
     "text": [
      "akurasi: 0.6\n"
     ]
    }
   ],
   "source": [
    "from sklearn.metrics import accuracy_score\n",
    "print('akurasi: %s' % accuracy_score(y_testbin, pred_bin))"
   ]
  },
  {
   "cell_type": "code",
   "execution_count": 28,
   "metadata": {},
   "outputs": [
    {
     "name": "stdout",
     "output_type": "stream",
     "text": [
      "presisi: 0.0\n"
     ]
    },
    {
     "name": "stderr",
     "output_type": "stream",
     "text": [
      "c:\\Users\\Asus\\AppData\\Local\\Programs\\Python\\Python310\\lib\\site-packages\\sklearn\\metrics\\_classification.py:1334: UndefinedMetricWarning: Precision is ill-defined and being set to 0.0 due to no predicted samples. Use `zero_division` parameter to control this behavior.\n",
      "  _warn_prf(average, modifier, msg_start, len(result))\n"
     ]
    }
   ],
   "source": [
    "from sklearn.metrics import precision_score\n",
    "print('presisi: %s' % precision_score(y_testbin, pred_bin))"
   ]
  },
  {
   "cell_type": "code",
   "execution_count": 27,
   "metadata": {},
   "outputs": [
    {
     "name": "stdout",
     "output_type": "stream",
     "text": [
      "recall: 0.0\n"
     ]
    }
   ],
   "source": [
    "from sklearn.metrics import recall_score\n",
    "print('recall: %s' % recall_score(y_testbin, pred_bin))"
   ]
  }
 ],
 "metadata": {
  "kernelspec": {
   "display_name": "Python 3.10.6 64-bit",
   "language": "python",
   "name": "python3"
  },
  "language_info": {
   "codemirror_mode": {
    "name": "ipython",
    "version": 3
   },
   "file_extension": ".py",
   "mimetype": "text/x-python",
   "name": "python",
   "nbconvert_exporter": "python",
   "pygments_lexer": "ipython3",
   "version": "3.10.6"
  },
  "orig_nbformat": 4,
  "vscode": {
   "interpreter": {
    "hash": "107d7b120a5b68773a87d4067e673630b35702e55ebab3138143d08b1c4d7cbc"
   }
  }
 },
 "nbformat": 4,
 "nbformat_minor": 2
}
