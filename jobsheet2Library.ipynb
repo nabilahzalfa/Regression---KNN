{
 "cells": [
  {
   "cell_type": "code",
   "execution_count": 3,
   "metadata": {},
   "outputs": [],
   "source": [
    "import numpy as np\n",
    "import matplotlib.pyplot as plt\n",
    "\n",
    "x_train = np.array([\n",
    "            [26, 8],\n",
    "            [26, 11],\n",
    "            [29, 8],\n",
    "            [34, 10],\n",
    "            [36, 11],\n",
    "            [33, 8],\n",
    "            [30, 9],\n",
    "            [27, 10],\n",
    "            [27, 11],\n",
    "            [26, 11],\n",
    "            [31, 13],\n",
    "            [34, 8]\n",
    "        ])\n",
    "\n",
    "y_train = ['go out', 'go out', 'go out', 'stay at home', 'stay at home', 'go out', \n",
    "        'go out','go out', 'go out', 'go out', 'stay at home', 'go out']\n",
    "\n",
    "x_test1 = np.array([[30, 10]])\n",
    "x_test2 = np.array([[28, 13]])\n",
    "x_test3 = np.array([[29, 9]])\n",
    "x_test4 = np.array([[31, 12]])\n",
    "x_test5 = np.array([[27, 8]])"
   ]
  },
  {
   "cell_type": "code",
   "execution_count": 4,
   "metadata": {},
   "outputs": [
    {
     "name": "stdout",
     "output_type": "stream",
     "text": [
      "[[0]\n",
      " [0]\n",
      " [0]\n",
      " [1]\n",
      " [1]\n",
      " [0]\n",
      " [0]\n",
      " [0]\n",
      " [0]\n",
      " [0]\n",
      " [1]\n",
      " [0]]\n",
      "['go out']\n"
     ]
    }
   ],
   "source": [
    "from sklearn.preprocessing import LabelBinarizer\n",
    "from sklearn.neighbors import KNeighborsClassifier\n",
    "\n",
    "lb = LabelBinarizer()\n",
    "y_trainbin = lb.fit_transform(y_train)\n",
    "print(y_trainbin)\n",
    "\n",
    "k = 5\n",
    "clf = KNeighborsClassifier(n_neighbors=k)\n",
    "clf.fit(x_train,y_trainbin.reshape(-1))\n",
    "pred_bin = clf.predict(np.array([x_test1]).reshape(1,-1))[0]\n",
    "pred_label = lb.inverse_transform(pred_bin)\n",
    "print(pred_label)"
   ]
  },
  {
   "cell_type": "code",
   "execution_count": 5,
   "metadata": {},
   "outputs": [
    {
     "name": "stdout",
     "output_type": "stream",
     "text": [
      "[[0]\n",
      " [0]\n",
      " [0]\n",
      " [1]\n",
      " [1]\n",
      " [0]\n",
      " [0]\n",
      " [0]\n",
      " [0]\n",
      " [0]\n",
      " [1]\n",
      " [0]]\n",
      "['go out']\n"
     ]
    }
   ],
   "source": [
    "from sklearn.preprocessing import LabelBinarizer\n",
    "from sklearn.neighbors import KNeighborsClassifier\n",
    "\n",
    "lb = LabelBinarizer()\n",
    "y_trainbin = lb.fit_transform(y_train)\n",
    "print(y_trainbin)\n",
    "\n",
    "k = 5\n",
    "clf = KNeighborsClassifier(n_neighbors=k)\n",
    "clf.fit(x_train,y_trainbin.reshape(-1))\n",
    "pred_bin = clf.predict(np.array([x_test2]).reshape(1,-1))[0]\n",
    "pred_label = lb.inverse_transform(pred_bin)\n",
    "print(pred_label)"
   ]
  },
  {
   "cell_type": "code",
   "execution_count": 6,
   "metadata": {},
   "outputs": [
    {
     "name": "stdout",
     "output_type": "stream",
     "text": [
      "[[0]\n",
      " [0]\n",
      " [0]\n",
      " [1]\n",
      " [1]\n",
      " [0]\n",
      " [0]\n",
      " [0]\n",
      " [0]\n",
      " [0]\n",
      " [1]\n",
      " [0]]\n",
      "['go out']\n"
     ]
    }
   ],
   "source": [
    "from sklearn.preprocessing import LabelBinarizer\n",
    "from sklearn.neighbors import KNeighborsClassifier\n",
    "\n",
    "lb = LabelBinarizer()\n",
    "y_trainbin = lb.fit_transform(y_train)\n",
    "print(y_trainbin)\n",
    "\n",
    "k = 5\n",
    "clf = KNeighborsClassifier(n_neighbors=k)\n",
    "clf.fit(x_train,y_trainbin.reshape(-1))\n",
    "pred_bin = clf.predict(np.array([x_test3]).reshape(1,-1))[0]\n",
    "pred_label = lb.inverse_transform(pred_bin)\n",
    "print(pred_label)"
   ]
  },
  {
   "cell_type": "code",
   "execution_count": 7,
   "metadata": {},
   "outputs": [
    {
     "name": "stdout",
     "output_type": "stream",
     "text": [
      "[[0]\n",
      " [0]\n",
      " [0]\n",
      " [1]\n",
      " [1]\n",
      " [0]\n",
      " [0]\n",
      " [0]\n",
      " [0]\n",
      " [0]\n",
      " [1]\n",
      " [0]]\n",
      "['go out']\n"
     ]
    }
   ],
   "source": [
    "from sklearn.preprocessing import LabelBinarizer\n",
    "from sklearn.neighbors import KNeighborsClassifier\n",
    "\n",
    "lb = LabelBinarizer()\n",
    "y_trainbin = lb.fit_transform(y_train)\n",
    "print(y_trainbin)\n",
    "\n",
    "k = 5\n",
    "clf = KNeighborsClassifier(n_neighbors=k)\n",
    "clf.fit(x_train,y_trainbin.reshape(-1))\n",
    "pred_bin = clf.predict(np.array([x_test4]).reshape(1,-1))[0]\n",
    "pred_label = lb.inverse_transform(pred_bin)\n",
    "print(pred_label)"
   ]
  },
  {
   "cell_type": "code",
   "execution_count": 8,
   "metadata": {},
   "outputs": [
    {
     "name": "stdout",
     "output_type": "stream",
     "text": [
      "[[0]\n",
      " [0]\n",
      " [0]\n",
      " [1]\n",
      " [1]\n",
      " [0]\n",
      " [0]\n",
      " [0]\n",
      " [0]\n",
      " [0]\n",
      " [1]\n",
      " [0]]\n",
      "['go out']\n"
     ]
    }
   ],
   "source": [
    "from sklearn.preprocessing import LabelBinarizer\n",
    "from sklearn.neighbors import KNeighborsClassifier\n",
    "\n",
    "lb = LabelBinarizer()\n",
    "y_trainbin = lb.fit_transform(y_train)\n",
    "print(y_trainbin)\n",
    "\n",
    "k = 5\n",
    "clf = KNeighborsClassifier(n_neighbors=k)\n",
    "clf.fit(x_train,y_trainbin.reshape(-1))\n",
    "pred_bin = clf.predict(np.array([x_test5]).reshape(1,-1))[0]\n",
    "pred_label = lb.inverse_transform(pred_bin)\n",
    "print(pred_label)"
   ]
  },
  {
   "cell_type": "code",
   "execution_count": 9,
   "metadata": {},
   "outputs": [
    {
     "name": "stdout",
     "output_type": "stream",
     "text": [
      "label biner:[1 0 0 1 0]\n",
      "['go out' 'go out' 'go out' 'go out' 'go out']\n"
     ]
    }
   ],
   "source": [
    "from sklearn.preprocessing import LabelBinarizer\n",
    "from sklearn.neighbors import KNeighborsClassifier\n",
    "\n",
    "x_test = np.array([[30, 10],\n",
    "                [28, 13],\n",
    "                [29, 9],\n",
    "                [31, 12],\n",
    "                [27, 8]\n",
    "                ])\n",
    "y_test =['stay at home', 'go out', 'go out', 'stay at home', 'go out']\n",
    "\n",
    "lb = LabelBinarizer()\n",
    "y_trainbin = lb.fit_transform(y_train)\n",
    "y_testbin = lb.transform(y_test)\n",
    "print('label biner:%s' %y_testbin.T[0])\n",
    "\n",
    "k = 5\n",
    "clf = KNeighborsClassifier(n_neighbors=k)\n",
    "clf.fit(x_train,y_trainbin.reshape(-1))\n",
    "pred_bin = clf.predict(x_test)\n",
    "pred_label = lb.inverse_transform(pred_bin)\n",
    "print(pred_label)"
   ]
  },
  {
   "cell_type": "code",
   "execution_count": 10,
   "metadata": {},
   "outputs": [
    {
     "name": "stdout",
     "output_type": "stream",
     "text": [
      "akurasi: 0.6\n"
     ]
    }
   ],
   "source": [
    "from sklearn.metrics import accuracy_score\n",
    "print('akurasi: %s' % accuracy_score(y_testbin, pred_bin))"
   ]
  },
  {
   "cell_type": "code",
   "execution_count": 11,
   "metadata": {},
   "outputs": [
    {
     "name": "stdout",
     "output_type": "stream",
     "text": [
      "presisi: 0.0\n"
     ]
    },
    {
     "name": "stderr",
     "output_type": "stream",
     "text": [
      "c:\\Users\\Asus\\AppData\\Local\\Programs\\Python\\Python310\\lib\\site-packages\\sklearn\\metrics\\_classification.py:1334: UndefinedMetricWarning: Precision is ill-defined and being set to 0.0 due to no predicted samples. Use `zero_division` parameter to control this behavior.\n",
      "  _warn_prf(average, modifier, msg_start, len(result))\n"
     ]
    }
   ],
   "source": [
    "from sklearn.metrics import precision_score\n",
    "print('presisi: %s' % precision_score(y_testbin, pred_bin))"
   ]
  },
  {
   "cell_type": "code",
   "execution_count": 12,
   "metadata": {},
   "outputs": [
    {
     "name": "stdout",
     "output_type": "stream",
     "text": [
      "recall: 0.0\n"
     ]
    }
   ],
   "source": [
    "from sklearn.metrics import recall_score\n",
    "print('recall: %s' % recall_score(y_testbin, pred_bin))"
   ]
  }
 ],
 "metadata": {
  "kernelspec": {
   "display_name": "Python 3.10.6 64-bit",
   "language": "python",
   "name": "python3"
  },
  "language_info": {
   "codemirror_mode": {
    "name": "ipython",
    "version": 3
   },
   "file_extension": ".py",
   "mimetype": "text/x-python",
   "name": "python",
   "nbconvert_exporter": "python",
   "pygments_lexer": "ipython3",
   "version": "3.10.6"
  },
  "orig_nbformat": 4,
  "vscode": {
   "interpreter": {
    "hash": "107d7b120a5b68773a87d4067e673630b35702e55ebab3138143d08b1c4d7cbc"
   }
  }
 },
 "nbformat": 4,
 "nbformat_minor": 2
}
